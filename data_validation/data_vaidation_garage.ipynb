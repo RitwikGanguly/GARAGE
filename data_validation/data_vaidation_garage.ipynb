{
 "cells": [
  {
   "cell_type": "markdown",
   "id": "56dbd97f",
   "metadata": {},
   "source": [
    "# Data Validation\n"
   ]
  },
  {
   "cell_type": "markdown",
   "id": "86462a68",
   "metadata": {},
   "source": [
    "- **Need to install python(v3.9.21)**"
   ]
  },
  {
   "cell_type": "markdown",
   "id": "abb8c640",
   "metadata": {},
   "source": [
    "### Installed packages are :\n",
    "\n",
    "- anndata - 0.10.3\n",
    "- jupyter - 1.1.1\n",
    "- leidenalg - 0.10.1\n",
    "- matplotlib - 3.9.4\n",
    "- numpy - 1.26.4\n",
    "- pandas - 2.2.3\n",
    "- scanpy - 1.9.6\n",
    "- seaborn - 0.13.2\n",
    "- scikit-learn - 1.5.2"
   ]
  },
  {
   "cell_type": "code",
   "execution_count": 36,
   "id": "769a8e52",
   "metadata": {},
   "outputs": [],
   "source": [
    "data = \"pollen\"\n",
    "model = \"gatgan\"\n",
    "# k = 90"
   ]
  },
  {
   "cell_type": "code",
   "execution_count": null,
   "id": "16012967",
   "metadata": {},
   "outputs": [
    {
     "name": "stderr",
     "output_type": "stream",
     "text": [
      "/home/bernadettem/anaconda3/envs/env_scRNA2025/lib/python3.9/site-packages/scipy/__init__.py:146: UserWarning: A NumPy version >=1.17.3 and <1.25.0 is required for this version of SciPy (detected version 1.26.4\n",
      "  warnings.warn(f\"A NumPy version >={np_minversion} and <{np_maxversion}\"\n"
     ]
    }
   ],
   "source": [
    "import scanpy as sc\n",
    "import  numpy as np\n",
    "import pandas as pd\n",
    "from sklearn.preprocessing import LabelEncoder\n",
    "\n",
    "import leidenalg\n",
    "from sklearn.metrics import adjusted_rand_score, normalized_mutual_info_score, f1_score\n",
    "import matplotlib.pyplot as plt\n",
    "import seaborn as sns\n",
    "import colorsys"
   ]
  },
  {
   "cell_type": "code",
   "execution_count": null,
   "id": "fe84d7fe",
   "metadata": {},
   "outputs": [],
   "source": []
  },
  {
   "cell_type": "code",
   "execution_count": 16,
   "id": "54d8467b",
   "metadata": {},
   "outputs": [],
   "source": [
    "from matplotlib import rcParams\n",
    "\n",
    "# --- Configure Matplotlib & environment ---\n",
    "# Use a standard LaTeX-compatible font or any known font\n",
    "rcParams['pdf.fonttype'] = 42  # Use TrueType fonts for editable text in illustrator\n",
    "rcParams['ps.fonttype'] = 42   # Also for PostScript output\n",
    "rcParams['font.family'] = 'DejaVu Sans' # A good default font\n",
    "# %matplotlib inline # This is for Jupyter notebooks, not needed in a .py script"
   ]
  },
  {
   "cell_type": "code",
   "execution_count": 17,
   "id": "44d6f2bf",
   "metadata": {},
   "outputs": [
    {
     "data": {
      "text/plain": [
       "(299, 100)"
      ]
     },
     "execution_count": 17,
     "metadata": {},
     "output_type": "execute_result"
    }
   ],
   "source": [
    "df = pd.read_csv(\"datafilt1.csv\", na_values=['NA'])\n",
    "df1 = pd.read_csv(\"datafilt2.csv\", na_values=['NA'])\n",
    "df_comb = pd.read_csv(\"datafilt_combined.csv\", na_values=['NA'])\n",
    "df.shape"
   ]
  },
  {
   "cell_type": "code",
   "execution_count": 18,
   "id": "f6c76972",
   "metadata": {},
   "outputs": [
    {
     "name": "stderr",
     "output_type": "stream",
     "text": [
      "/home/bernadettem/anaconda3/envs/env_scRNA2025/lib/python3.9/site-packages/anndata/_core/anndata.py:183: ImplicitModificationWarning: Transforming to str index.\n",
      "  warnings.warn(\"Transforming to str index.\", ImplicitModificationWarning)\n",
      "/home/bernadettem/anaconda3/envs/env_scRNA2025/lib/python3.9/site-packages/anndata/_core/anndata.py:183: ImplicitModificationWarning: Transforming to str index.\n",
      "  warnings.warn(\"Transforming to str index.\", ImplicitModificationWarning)\n",
      "/home/bernadettem/anaconda3/envs/env_scRNA2025/lib/python3.9/site-packages/anndata/_core/anndata.py:183: ImplicitModificationWarning: Transforming to str index.\n",
      "  warnings.warn(\"Transforming to str index.\", ImplicitModificationWarning)\n"
     ]
    }
   ],
   "source": [
    "adata_gen = sc.AnnData(df)\n",
    "adata_real = sc.AnnData(df1)\n",
    "adata_comb = sc.AnnData(df_comb)\n"
   ]
  },
  {
   "cell_type": "code",
   "execution_count": null,
   "id": "a4a00380",
   "metadata": {},
   "outputs": [],
   "source": [
    "# label = pd.read_csv(r\"/home/bernadettem/bernadettenotebook/Ritwik/NLP/GAT_GAN/real_data/pollenc.txt\", header=None, names=[\"cell_type\"])\n",
    "# label\n",
    "\n",
    "## FOR CBMC DATA\n",
    "# label = pd.read_csv(r\"/home/bernadettem/bernadettenotebook/Ritwik/NLP/GAT_GAN/real_data/cell_type_cbmc.csv\", header = 0, index_col = 0)\n",
    "\n",
    "## FOR YAN DATA\n",
    "label = pd.read_csv(r\"/path/for/cell/type/data/pollenc.txt\", header = None)\n",
    "label.reset_index(drop=True, inplace=True)\n",
    "label = label.rename(columns={label.columns[0]: \"cell_type\"})\n",
    "label"
   ]
  },
  {
   "cell_type": "code",
   "execution_count": null,
   "id": "11f62d56",
   "metadata": {},
   "outputs": [],
   "source": [
    "label.cell_type.value_counts()"
   ]
  },
  {
   "cell_type": "code",
   "execution_count": 21,
   "id": "63b63621",
   "metadata": {},
   "outputs": [],
   "source": [
    "label_encoder = LabelEncoder()     # transform categorical labels into integers\n",
    "\n",
    "# add one new column into the df3\n",
    "label['class_label_encoded'] = label_encoder.fit_transform(label['cell_type'])\n",
    "y = label['class_label_encoded'].values"
   ]
  },
  {
   "cell_type": "code",
   "execution_count": null,
   "id": "1031e0fb",
   "metadata": {},
   "outputs": [],
   "source": [
    "set(y)"
   ]
  },
  {
   "cell_type": "code",
   "execution_count": 23,
   "id": "637d3066",
   "metadata": {},
   "outputs": [],
   "source": [
    "# from sklearn.preprocessing import LabelEncoder   \n",
    "# label=pd.read_csv(\"/vol/eph/data/Data_for_cbmc/cbmcannot.csv\")\n",
    "# label = label.rename(columns={label.columns[0]: \"cell_type\"})\n",
    "# class_labels = label.cell_type.value_counts()\n",
    "# class_labels.values.tolist()\n",
    "# label_encoder = LabelEncoder()     # transform categorical labels into integers\n",
    "\n",
    "\n",
    "# # add one new column into the df3\n",
    "# label['class_label_encoded'] = label_encoder.fit_transform(label['cell_type'])\n",
    "# y = label['class_label_encoded'].values \n",
    "\n",
    "### SAME CODE AS ABOVE - SO DON'T NEEDED"
   ]
  },
  {
   "cell_type": "markdown",
   "id": "cefa7e52",
   "metadata": {},
   "source": [
    "## ARI of Gen Data"
   ]
  },
  {
   "cell_type": "code",
   "execution_count": 39,
   "id": "605eb160",
   "metadata": {},
   "outputs": [],
   "source": [
    "def extended_set1_palette(num_colors):\n",
    "    base_palette = sns.color_palette('Set1', 9)\n",
    "    if num_colors <= 9:\n",
    "        return base_palette[:num_colors]\n",
    "    else:\n",
    "        # Repeat base palette as many times as needed\n",
    "        repeats = (num_colors // 9) + 1\n",
    "        extended_palette = base_palette * repeats\n",
    "        # Slightly adjust hue to make colors distinct beyond base palette\n",
    "        def adjust_color_rgb(rgb, hue_shift=0.1):\n",
    "            h, l, s = colorsys.rgb_to_hls(*rgb)\n",
    "            h = (h + hue_shift) % 1.0\n",
    "            return colorsys.hls_to_rgb(h, l, s)\n",
    "\n",
    "        adjusted_palette = []\n",
    "        for i in range(num_colors):\n",
    "            base_color = extended_palette[i]\n",
    "            # Hue shift depends on which repetition we are in\n",
    "            rep_shift = (i // 9) * 0.15\n",
    "            adjusted_color = adjust_color_rgb(base_color, rep_shift)\n",
    "            adjusted_palette.append(adjusted_color)\n",
    "        return adjusted_palette"
   ]
  },
  {
   "cell_type": "code",
   "execution_count": null,
   "id": "beb76101",
   "metadata": {
    "scrolled": false
   },
   "outputs": [],
   "source": [
    "sc.tl.pca(adata_gen, svd_solver='arpack')\n",
    "sc.pl.pca_variance_ratio(adata_gen,n_pcs=20,log=True)"
   ]
  },
  {
   "cell_type": "code",
   "execution_count": null,
   "id": "cee9c3ae",
   "metadata": {},
   "outputs": [],
   "source": [
    "#create neighborhood graph using 20 pcs\n",
    "sc.pp.neighbors(adata_gen, n_neighbors=20, n_pcs=23)\n",
    "##dim reduction using umap\n",
    "sc.tl.umap(adata_gen)"
   ]
  },
  {
   "cell_type": "code",
   "execution_count": null,
   "id": "a9cc19a7",
   "metadata": {},
   "outputs": [],
   "source": [
    "predicted_labels_gen = adata_gen.obs['leiden'].astype(str).astype(int).to_numpy()"
   ]
  },
  {
   "cell_type": "code",
   "execution_count": 4,
   "id": "2c51c247",
   "metadata": {},
   "outputs": [],
   "source": [
    "# ari = {}\n",
    "# i = 0.1\n",
    "# while(i <= 2.0):\n",
    "#     sc.tl.leiden(adata_gen, resolution=i)\n",
    "#     ari_score = adjusted_rand_score(y, adata_gen.obs['leiden'])\n",
    "#     nmi_score = normalized_mutual_info_score(y, adata_gen.obs['leiden'])\n",
    "#     macro_f1 = f1_score(y, predicted_labels_gen, average='macro', zero_division=0)\n",
    "    \n",
    "    \n",
    "#     if ari_score > 0.65: ari[i] = [ari_score, nmi_score, macro_f1]\n",
    "    \n",
    "#     i += 0.01"
   ]
  },
  {
   "cell_type": "code",
   "execution_count": null,
   "id": "8242cf2a",
   "metadata": {},
   "outputs": [],
   "source": [
    "## UMAP with the integer label of the cell-types\n",
    "\n",
    "sc.tl.leiden(adata_gen, resolution=1.56)\n",
    "ari_score = adjusted_rand_score(y, adata_gen.obs['leiden'])\n",
    "nmi_score = normalized_mutual_info_score(y, adata_gen.obs['leiden'])\n",
    "macro_f1 = f1_score(y, predicted_labels_gen, average='macro', zero_division=0)\n",
    "\n",
    "# Ensure 'leiden' is categorical\n",
    "adata_gen.obs['leiden'] = adata_gen.obs['leiden'].astype('category')\n",
    "num_clusters = len(adata_gen.obs['leiden'].cat.categories)\n",
    "\n",
    "palette = extended_set1_palette(num_clusters)\n",
    "\n",
    "\n",
    "sc.pl.umap(adata_gen, color=['leiden'], palette=palette, title=f'UMAP : ARI = {round(ari_score, 4)}, NMI = {round(nmi_score, 4)}, macro_f1 = {round(macro_f1, 4)}', show= False)\n",
    "# plt.savefig(f'/home/bernadettem/bernadettenotebook/Ritwik/NLP/GAT_GAN/generated_umap/generated_umap_{model}_{data}_k_{k}.png', dpi=300, bbox_inches='tight')\n",
    "\n",
    "## rasterization\n",
    "\n",
    "ax = plt.gca()\n",
    "for artist in ax.collections:\n",
    "    artist.set_rasterized(True)\n",
    "    \n",
    "plt.savefig(\n",
    "    # f'/home/bernadettem/bernadettenotebook/Ritwik/NLP/GAT_GAN/generated_umap/generated_umap_{model}_{data}_k_{k}_cv2.png',\n",
    "    f'/path/to/save/the/umap/generated_umap_{model}_{data}_cv2.png',\n",
    "    dpi=600,\n",
    "    bbox_inches='tight'\n",
    ")"
   ]
  },
  {
   "cell_type": "code",
   "execution_count": null,
   "id": "6ee3f949",
   "metadata": {},
   "outputs": [],
   "source": [
    "## UMAP with the actual label of the cell-types\n",
    "int_labels = adata_gen.obs['leiden'].cat.categories.astype(int)\n",
    "str_labels = label_encoder.inverse_transform(int_labels)\n",
    "adata_gen.obs['leiden_named'] = adata_gen.obs['leiden'].cat.rename_categories(str_labels)\n",
    "\n",
    "\n",
    "sc.tl.leiden(adata_gen, resolution=1.56)\n",
    "ari_score = adjusted_rand_score(y, adata_gen.obs['leiden'])\n",
    "nmi_score = normalized_mutual_info_score(y, adata_gen.obs['leiden'])\n",
    "macro_f1 = f1_score(y, predicted_labels_gen, average='macro', zero_division=0)\n",
    "\n",
    "\n",
    "adata_gen.obs['leiden'] = adata_gen.obs['leiden'].astype('category')\n",
    "num_clusters = len(adata_gen.obs['leiden'].cat.categories)\n",
    "\n",
    "palette = extended_set1_palette(num_clusters)\n",
    "\n",
    "sc.pl.umap(adata_gen, color=['leiden_named'], title=f'UMAP : ARI = {round(ari_score, 4)}, NMI = {round(nmi_score, 4)}, macro_f1 = {round(macro_f1, 4)}', show= False)\n",
    "\n",
    "ax = plt.gca()\n",
    "for artist in ax.collections:\n",
    "    artist.set_rasterized(True)\n",
    "    \n",
    "# plt.savefig(\n",
    "#     f'/home/bernadettem/bernadettenotebook/Ritwik/NLP/GAT_GAN/generated_umap_paper/generated_umap_{model}_{data}_k_{k}_actual_label.pdf',\n",
    "#     dpi=600,\n",
    "#     bbox_inches='tight'\n",
    "# )\n",
    "\n",
    "plt.savefig(\n",
    "    # f'/home/bernadettem/bernadettenotebook/Ritwik/NLP/GAT_GAN/generated_umap/generated_umap_{model}_{data}_k_{k}_actual_label_cv2.png',\n",
    "    f'/path/to/save/the/umap/generated_umap_{model}_{data}_actual_label_cv2.png',\n",
    "    dpi=600,\n",
    "    bbox_inches='tight'\n",
    ")"
   ]
  },
  {
   "cell_type": "markdown",
   "id": "7fcba8e8",
   "metadata": {},
   "source": [
    "## ARI of Real Data"
   ]
  },
  {
   "cell_type": "code",
   "execution_count": null,
   "id": "49a9f0d5",
   "metadata": {
    "scrolled": false
   },
   "outputs": [],
   "source": [
    "sc.tl.pca(adata_real, svd_solver='arpack')\n",
    "sc.pl.pca_variance_ratio(adata_real,n_pcs=20,log=True)"
   ]
  },
  {
   "cell_type": "code",
   "execution_count": 26,
   "id": "0a617a16",
   "metadata": {},
   "outputs": [],
   "source": [
    "#create neighborhood graph using 20 pcs\n",
    "sc.pp.neighbors(adata_real, n_neighbors=30, n_pcs=17)\n",
    "##dim reduction using umap\n",
    "sc.tl.umap(adata_real)"
   ]
  },
  {
   "cell_type": "code",
   "execution_count": 28,
   "id": "2d0a128b",
   "metadata": {},
   "outputs": [],
   "source": [
    "predicted_labels_real = adata_real.obs['leiden'].astype(str).astype(int).to_numpy()"
   ]
  },
  {
   "cell_type": "code",
   "execution_count": 3,
   "id": "10f99c81",
   "metadata": {},
   "outputs": [],
   "source": [
    "# ari = {}\n",
    "# i = 0.1\n",
    "# while(i <= 0.8):\n",
    "#     sc.tl.leiden(adata_real, resolution=i)\n",
    "#     ari_score = adjusted_rand_score(y, adata_real.obs['leiden'])\n",
    "#     nmi_score = normalized_mutual_info_score(y, adata_real.obs['leiden'])\n",
    "#     macro_f1 = f1_score(y, predicted_labels_real, average='macro', zero_division=0)\n",
    "    \n",
    "#     if ari_score < 0.85: ari[i] = [ari_score, nmi_score, macro_f1]\n",
    "    \n",
    "#     i += 0.01"
   ]
  },
  {
   "cell_type": "code",
   "execution_count": null,
   "id": "948bdba4",
   "metadata": {},
   "outputs": [],
   "source": []
  },
  {
   "cell_type": "code",
   "execution_count": null,
   "id": "3ee5857f",
   "metadata": {},
   "outputs": [],
   "source": [
    "## UMAP with the integer label of the cell-types\n",
    "\n",
    "sc.tl.leiden(adata_real, resolution=0.18)\n",
    "ari_score = adjusted_rand_score(y, adata_real.obs['leiden'])\n",
    "nmi_score = normalized_mutual_info_score(y, adata_real.obs['leiden'])\n",
    "macro_f1 = f1_score(y, predicted_labels_real, average='macro', zero_division=0)\n",
    "\n",
    "# Ensure 'leiden' is categorical\n",
    "adata_real.obs['leiden'] = adata_real.obs['leiden'].astype('category')\n",
    "num_clusters = len(adata_real.obs['leiden'].cat.categories)\n",
    "\n",
    "palette = extended_set1_palette(num_clusters)\n",
    "\n",
    "\n",
    "sc.pl.umap(adata_real, color=['leiden'], palette=palette, title=f'UMAP : ARI = {round(ari_score, 4)}, NMI = {round(nmi_score, 4)}, macro_f1 = {round(macro_f1, 4)}', show= False)\n",
    "# plt.savefig(f'/home/bernadettem/bernadettenotebook/Ritwik/NLP/GAT_GAN/generated_umap/generated_umap_{model}_{data}_k_{k}.png', dpi=300, bbox_inches='tight')\n",
    "\n",
    "## rasterization\n",
    "\n",
    "ax = plt.gca()\n",
    "for artist in ax.collections:\n",
    "    artist.set_rasterized(True)\n",
    "    \n",
    "plt.savefig(\n",
    "    f'/home/bernadettem/bernadettenotebook/Ritwik/NLP/GAT_GAN/generated_umap/real_umap_{model}_{data}_cv2.png',\n",
    "    dpi=600,\n",
    "    bbox_inches='tight'\n",
    ")"
   ]
  },
  {
   "cell_type": "code",
   "execution_count": null,
   "id": "56e7e913",
   "metadata": {},
   "outputs": [],
   "source": [
    "## UMAP with the actual label of the cell-types\n",
    "int_labels = adata_real.obs['leiden'].cat.categories.astype(int)\n",
    "str_labels = label_encoder.inverse_transform(int_labels)\n",
    "adata_real.obs['leiden_named'] = adata_real.obs['leiden'].cat.rename_categories(str_labels)\n",
    "\n",
    "\n",
    "sc.tl.leiden(adata_real, resolution=0.18)\n",
    "ari_score = adjusted_rand_score(y, adata_real.obs['leiden'])\n",
    "nmi_score = normalized_mutual_info_score(y, adata_real.obs['leiden'])\n",
    "macro_f1 = f1_score(y, predicted_labels_real, average='macro', zero_division=0)\n",
    "\n",
    "\n",
    "adata_real.obs['leiden'] = adata_real.obs['leiden'].astype('category')\n",
    "num_clusters = len(adata_real.obs['leiden'].cat.categories)\n",
    "\n",
    "palette = extended_set1_palette(num_clusters)\n",
    "\n",
    "sc.pl.umap(adata_real, color=['leiden_named'], title=f'UMAP : ARI = {round(ari_score, 4)}, NMI = {round(nmi_score, 4)}, macro_f1 = {round(macro_f1, 4)}', show= False)\n",
    "\n",
    "ax = plt.gca()\n",
    "for artist in ax.collections:\n",
    "    artist.set_rasterized(True)\n",
    "    \n",
    "plt.savefig(\n",
    "    f'/path/to/save/the/umap/real_umap_{model}_{data}_cv2_actual_label.pdf',\n",
    "    dpi=600,\n",
    "    bbox_inches='tight'\n",
    ")"
   ]
  },
  {
   "cell_type": "markdown",
   "id": "0df9d3b0",
   "metadata": {},
   "source": [
    "## combined"
   ]
  },
  {
   "cell_type": "code",
   "execution_count": null,
   "id": "d7860607",
   "metadata": {},
   "outputs": [],
   "source": [
    "sc.tl.pca(adata_comb, svd_solver='arpack')\n",
    "sc.pl.pca_variance_ratio(adata_comb,n_pcs=20,log=True)"
   ]
  },
  {
   "cell_type": "code",
   "execution_count": null,
   "id": "1564830b",
   "metadata": {},
   "outputs": [],
   "source": [
    "#create neighborhood graph using 20 pcs\n",
    "sc.pp.neighbors(adata_comb, n_neighbors=20, n_pcs=30)\n",
    "##dim reduction using umap\n",
    "sc.tl.umap(adata_comb)"
   ]
  },
  {
   "cell_type": "code",
   "execution_count": null,
   "id": "fcbeafad",
   "metadata": {},
   "outputs": [],
   "source": [
    "predicted_labels_comb = adata_comb.obs['leiden'].astype(str).astype(int).to_numpy()"
   ]
  },
  {
   "cell_type": "code",
   "execution_count": 2,
   "id": "74e44d08",
   "metadata": {},
   "outputs": [],
   "source": [
    "# ari = {}\n",
    "# i = 0.0\n",
    "# while(i <= 2.0):\n",
    "#     sc.tl.leiden(adata_comb, resolution=i)\n",
    "#     ari_score = adjusted_rand_score(y, adata_comb.obs['leiden'])\n",
    "#     nmi_score = normalized_mutual_info_score(y, adata_comb.obs['leiden'])\n",
    "#     macro_f1 = f1_score(y, predicted_labels_comb, average='macro', zero_division=0)\n",
    "    \n",
    "#     if ari_score < 0.9: ari[i] = [ari_score, nmi_score, macro_f1]\n",
    "    \n",
    "#     i += 0.01"
   ]
  },
  {
   "cell_type": "code",
   "execution_count": null,
   "id": "02778c1b",
   "metadata": {},
   "outputs": [],
   "source": []
  },
  {
   "cell_type": "code",
   "execution_count": null,
   "id": "062d9394",
   "metadata": {},
   "outputs": [],
   "source": [
    "## UMAP with the integer label of the cell-types\n",
    "\n",
    "sc.tl.leiden(adata_comb, resolution=0.34)\n",
    "ari_score = adjusted_rand_score(y, adata_comb.obs['leiden'])\n",
    "nmi_score = normalized_mutual_info_score(y, adata_comb.obs['leiden'])\n",
    "macro_f1 = f1_score(y, predicted_labels_comb, average='macro', zero_division=0)\n",
    "\n",
    "# Ensure 'leiden' is categorical\n",
    "adata_comb.obs['leiden'] = adata_comb.obs['leiden'].astype('category')\n",
    "num_clusters = len(adata_comb.obs['leiden'].cat.categories)\n",
    "\n",
    "palette = extended_set1_palette(num_clusters)\n",
    "\n",
    "\n",
    "sc.pl.umap(adata_comb, color=['leiden'], palette=palette, title=f'UMAP : ARI = {round(ari_score, 4)}, NMI = {round(nmi_score, 4)}, macro_f1 = {round(macro_f1, 4)}', show= False)\n",
    "# plt.savefig(f'/home/bernadettem/bernadettenotebook/Ritwik/NLP/GAT_GAN/generated_umap/generated_umap_{model}_{data}_k_{k}.png', dpi=300, bbox_inches='tight')\n",
    "\n",
    "## rasterization\n",
    "\n",
    "ax = plt.gca()\n",
    "for artist in ax.collections:\n",
    "    artist.set_rasterized(True)\n",
    "    \n",
    "plt.savefig(\n",
    "    # f'/home/bernadettem/bernadettenotebook/Ritwik/NLP/GAT_GAN/generated_umap/comb_umap_{model}_{data}.png',\n",
    "    f'/path/to/save/the/umap/comb_umap_{model}_{data}_cv2.png',\n",
    "    dpi=600,\n",
    "    bbox_inches='tight'\n",
    ")"
   ]
  },
  {
   "cell_type": "code",
   "execution_count": null,
   "id": "c6e2aab0",
   "metadata": {},
   "outputs": [],
   "source": [
    "## UMAP with the actual label of the cell-types\n",
    "int_labels = adata_comb.obs['leiden'].cat.categories.astype(int)\n",
    "str_labels = label_encoder.inverse_transform(int_labels)\n",
    "adata_comb.obs['leiden_named'] = adata_comb.obs['leiden'].cat.rename_categories(str_labels)\n",
    "\n",
    "\n",
    "sc.tl.leiden(adata_comb, resolution=0.34)\n",
    "ari_score = adjusted_rand_score(y, adata_comb.obs['leiden'])\n",
    "nmi_score = normalized_mutual_info_score(y, adata_comb.obs['leiden'])\n",
    "macro_f1 = f1_score(y, predicted_labels_comb, average='macro', zero_division=0)\n",
    "\n",
    "\n",
    "adata_comb.obs['leiden'] = adata_comb.obs['leiden'].astype('category')\n",
    "num_clusters = len(adata_comb.obs['leiden'].cat.categories)\n",
    "\n",
    "palette = extended_set1_palette(num_clusters)\n",
    "\n",
    "sc.pl.umap(adata_comb, color=['leiden_named'], title=f'UMAP : ARI = {round(ari_score, 4)}, NMI = {round(nmi_score, 4)}, macro_f1 = {round(macro_f1, 4)}', show= False)\n",
    "\n",
    "ax = plt.gca()\n",
    "for artist in ax.collections:\n",
    "    artist.set_rasterized(True)\n",
    "    \n",
    "plt.savefig(\n",
    "    # f'/home/bernadettem/bernadettenotebook/Ritwik/NLP/GAT_GAN/generated_umap/comb_umap_{model}_{data}_actual_label.png',\n",
    "    f'/path/to/save/the/umap/comb_umap_{model}_{data}_actual_label_cv2.png',\n",
    "    dpi=600,\n",
    "    bbox_inches='tight'\n",
    ")"
   ]
  }
 ],
 "metadata": {
  "kernelspec": {
   "display_name": "env_scRNA2025",
   "language": "python",
   "name": "python3"
  },
  "language_info": {
   "codemirror_mode": {
    "name": "ipython",
    "version": 3
   },
   "file_extension": ".py",
   "mimetype": "text/x-python",
   "name": "python",
   "nbconvert_exporter": "python",
   "pygments_lexer": "ipython3",
   "version": "3.9.21"
  }
 },
 "nbformat": 4,
 "nbformat_minor": 5
}
