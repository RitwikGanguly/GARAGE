{
 "cells": [
  {
   "cell_type": "markdown",
   "id": "56dbd97f",
   "metadata": {},
   "source": [
    "# Data Validation\n"
   ]
  },
  {
   "cell_type": "markdown",
   "id": "86462a68",
   "metadata": {},
   "source": [
    "- **Need to install python(v3.9.21)**"
   ]
  },
  {
   "cell_type": "markdown",
   "id": "abb8c640",
   "metadata": {},
   "source": [
    "### Installed packages are :\n",
    "\n",
    "- anndata - 0.10.3\n",
    "- jupyter - 1.1.1\n",
    "- leidenalg - 0.10.1\n",
    "- matplotlib - 3.9.4\n",
    "- numpy - 1.26.4\n",
    "- pandas - 2.2.3\n",
    "- scanpy - 1.9.6\n",
    "- seaborn - 0.13.2\n",
    "- scikit-learn - 1.5.2"
   ]
  },
  {
   "cell_type": "code",
   "execution_count": 36,
   "id": "769a8e52",
   "metadata": {},
   "outputs": [],
   "source": [
    "data = \"pollen\"\n",
    "model = \"gatgan\"\n",
    "# k = 90"
   ]
  },
  {
   "cell_type": "code",
   "execution_count": null,
   "id": "16012967",
   "metadata": {},
   "outputs": [
    {
     "name": "stderr",
     "output_type": "stream",
     "text": [
      "/home/bernadettem/anaconda3/envs/env_scRNA2025/lib/python3.9/site-packages/scipy/__init__.py:146: UserWarning: A NumPy version >=1.17.3 and <1.25.0 is required for this version of SciPy (detected version 1.26.4\n",
      "  warnings.warn(f\"A NumPy version >={np_minversion} and <{np_maxversion}\"\n"
     ]
    }
   ],
   "source": [
    "import scanpy as sc\n",
    "import  numpy as np\n",
    "import pandas as pd\n",
    "from sklearn.preprocessing import LabelEncoder\n",
    "\n",
    "import leidenalg\n",
    "from sklearn.metrics import adjusted_rand_score, normalized_mutual_info_score, f1_score\n",
    "import matplotlib.pyplot as plt\n",
    "import seaborn as sns\n",
    "import colorsys"
   ]
  },
  {
   "cell_type": "code",
   "execution_count": null,
   "id": "fe84d7fe",
   "metadata": {},
   "outputs": [],
   "source": []
  },
  {
   "cell_type": "code",
   "execution_count": 16,
   "id": "54d8467b",
   "metadata": {},
   "outputs": [],
   "source": [
    "from matplotlib import rcParams\n",
    "\n",
    "# --- Configure Matplotlib & environment ---\n",
    "# Use a standard LaTeX-compatible font or any known font\n",
    "rcParams['pdf.fonttype'] = 42  # Use TrueType fonts for editable text in illustrator\n",
    "rcParams['ps.fonttype'] = 42   # Also for PostScript output\n",
    "rcParams['font.family'] = 'DejaVu Sans' # A good default font\n",
    "# %matplotlib inline # This is for Jupyter notebooks, not needed in a .py script"
   ]
  },
  {
   "cell_type": "code",
   "execution_count": 17,
   "id": "44d6f2bf",
   "metadata": {},
   "outputs": [
    {
     "data": {
      "text/plain": [
       "(299, 100)"
      ]
     },
     "execution_count": 17,
     "metadata": {},
     "output_type": "execute_result"
    }
   ],
   "source": [
    "df = pd.read_csv(\"datafilt1.csv\", na_values=['NA'])\n",
    "df1 = pd.read_csv(\"datafilt2.csv\", na_values=['NA'])\n",
    "df_comb = pd.read_csv(\"datafilt_combined.csv\", na_values=['NA'])\n",
    "df.shape"
   ]
  },
  {
   "cell_type": "code",
   "execution_count": 18,
   "id": "f6c76972",
   "metadata": {},
   "outputs": [
    {
     "name": "stderr",
     "output_type": "stream",
     "text": [
      "/home/bernadettem/anaconda3/envs/env_scRNA2025/lib/python3.9/site-packages/anndata/_core/anndata.py:183: ImplicitModificationWarning: Transforming to str index.\n",
      "  warnings.warn(\"Transforming to str index.\", ImplicitModificationWarning)\n",
      "/home/bernadettem/anaconda3/envs/env_scRNA2025/lib/python3.9/site-packages/anndata/_core/anndata.py:183: ImplicitModificationWarning: Transforming to str index.\n",
      "  warnings.warn(\"Transforming to str index.\", ImplicitModificationWarning)\n",
      "/home/bernadettem/anaconda3/envs/env_scRNA2025/lib/python3.9/site-packages/anndata/_core/anndata.py:183: ImplicitModificationWarning: Transforming to str index.\n",
      "  warnings.warn(\"Transforming to str index.\", ImplicitModificationWarning)\n"
     ]
    }
   ],
   "source": [
    "adata_gen = sc.AnnData(df)\n",
    "adata_real = sc.AnnData(df1)\n",
    "adata_comb = sc.AnnData(df_comb)\n"
   ]
  },
  {
   "cell_type": "code",
   "execution_count": null,
   "id": "a4a00380",
   "metadata": {},
   "outputs": [],
   "source": [
    "# label = pd.read_csv(r\"/home/bernadettem/bernadettenotebook/Ritwik/NLP/GAT_GAN/real_data/pollenc.txt\", header=None, names=[\"cell_type\"])\n",
    "# label\n",
    "\n",
    "## FOR CBMC DATA\n",
    "# label = pd.read_csv(r\"/home/bernadettem/bernadettenotebook/Ritwik/NLP/GAT_GAN/real_data/cell_type_cbmc.csv\", header = 0, index_col = 0)\n",
    "\n",
    "## FOR YAN DATA\n",
    "label = pd.read_csv(r\"/path/for/cell/type/data/pollenc.txt\", header = None)\n",
    "label.reset_index(drop=True, inplace=True)\n",
    "label = label.rename(columns={label.columns[0]: \"cell_type\"})\n",
    "label"
   ]
  },
  {
   "cell_type": "code",
   "execution_count": null,
   "id": "11f62d56",
   "metadata": {},
   "outputs": [],
   "source": [
    "label.cell_type.value_counts()"
   ]
  },
  {
   "cell_type": "code",
   "execution_count": 21,
   "id": "63b63621",
   "metadata": {},
   "outputs": [],
   "source": [
    "label_encoder = LabelEncoder()     # transform categorical labels into integers\n",
    "\n",
    "# add one new column into the df3\n",
    "label['class_label_encoded'] = label_encoder.fit_transform(label['cell_type'])\n",
    "y = label['class_label_encoded'].values"
   ]
  },
  {
   "cell_type": "code",
   "execution_count": null,
   "id": "1031e0fb",
   "metadata": {},
   "outputs": [],
   "source": [
    "set(y)"
   ]
  },
  {
   "cell_type": "code",
   "execution_count": 23,
   "id": "637d3066",
   "metadata": {},
   "outputs": [],
   "source": [
    "# from sklearn.preprocessing import LabelEncoder   \n",
    "# label=pd.read_csv(\"/vol/eph/data/Data_for_cbmc/cbmcannot.csv\")\n",
    "# label = label.rename(columns={label.columns[0]: \"cell_type\"})\n",
    "# class_labels = label.cell_type.value_counts()\n",
    "# class_labels.values.tolist()\n",
    "# label_encoder = LabelEncoder()     # transform categorical labels into integers\n",
    "\n",
    "\n",
    "# # add one new column into the df3\n",
    "# label['class_label_encoded'] = label_encoder.fit_transform(label['cell_type'])\n",
    "# y = label['class_label_encoded'].values \n",
    "\n",
    "### SAME CODE AS ABOVE - SO DON'T NEEDED"
   ]
  },
  {
   "cell_type": "markdown",
   "id": "cefa7e52",
   "metadata": {},
   "source": [
    "## ARI of Gen Data"
   ]
  },
  {
   "cell_type": "markdown",
   "id": "7fcba8e8",
   "metadata": {},
   "source": [
    "## ARI of Real Data"
   ]
  },
  {
   "cell_type": "markdown",
   "id": "0df9d3b0",
   "metadata": {},
   "source": [
    "## combined"
   ]
  }
 ],
 "metadata": {
  "kernelspec": {
   "display_name": "env_scRNA2025",
   "language": "python",
   "name": "python3"
  },
  "language_info": {
   "codemirror_mode": {
    "name": "ipython",
    "version": 3
   },
   "file_extension": ".py",
   "mimetype": "text/x-python",
   "name": "python",
   "nbconvert_exporter": "python",
   "pygments_lexer": "ipython3",
   "version": "3.9.21"
  }
 },
 "nbformat": 4,
 "nbformat_minor": 5
}
